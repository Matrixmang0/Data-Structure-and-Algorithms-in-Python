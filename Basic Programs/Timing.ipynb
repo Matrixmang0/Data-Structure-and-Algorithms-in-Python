{
 "cells": [
  {
   "cell_type": "code",
   "execution_count": 6,
   "metadata": {},
   "outputs": [],
   "source": [
    "import time \n",
    "\n",
    "class TimerError(Exception):\n",
    "  \"\"\"This exception will be raised whenever the user misuses the functions of the Timer class\"\"\"\n",
    "\n",
    "class Timer:\n",
    "\n",
    "  def __init__(self):\n",
    "    self.start_time = None\n",
    "    self.elapsed_time = None\n",
    "\n",
    "  def start(self):\n",
    "    if self.start_time is not None:\n",
    "      raise TimerError(\"The timer is running, please use .stop() function to stop it\")\n",
    "    self.start_time = time.perf_counter()\n",
    "\n",
    "  def stop(self):\n",
    "    if self.start_time is None:\n",
    "      raise TimerError(\"The timer has not yet started, please use .start() function to start it\")\n",
    "    self.elapsed_time = time.perf_counter() - self.start_time\n",
    "    self.start_time = None\n",
    "  \n",
    "  def elapsedTime(self):\n",
    "    if self.elapsed_time is None and self.start_time is not None:\n",
    "      raise TimerError(\"The timer is running, please use .stop() function to stop it\")\n",
    "    elif self.elapsed_time is None and self.start_time is None:\n",
    "      raise TimerError(\"The timer has not yet started, please use .start() function to start it\")\n",
    "    return(self.elapsed_time)\n",
    "  \n",
    "  def __str__(self):\n",
    "    return(str(self.elapsed_time))"
   ]
  },
  {
   "cell_type": "code",
   "execution_count": 9,
   "metadata": {},
   "outputs": [
    {
     "name": "stdout",
     "output_type": "stream",
     "text": [
      "4 0.0008195239988708636\n",
      "5 0.008349272999112145\n",
      "6 0.05779126000015822\n",
      "7 0.5197410479995597\n",
      "8 4.856613672000094\n",
      "9 52.08204770900011\n",
      "1111110000\n"
     ]
    }
   ],
   "source": [
    "t = Timer()\n",
    "k = 0\n",
    "for i in range(4,10):\n",
    "\n",
    "  t.start()\n",
    "\n",
    "  for j in range(10**i):\n",
    "    k+=1\n",
    "  t.stop()\n",
    "  et = t.elapsedTime()\n",
    "  print(i,et)\n",
    "\n",
    "print(k)\n"
   ]
  }
 ],
 "metadata": {
  "kernelspec": {
   "display_name": "Python 3.10.6 64-bit",
   "language": "python",
   "name": "python3"
  },
  "language_info": {
   "codemirror_mode": {
    "name": "ipython",
    "version": 3
   },
   "file_extension": ".py",
   "mimetype": "text/x-python",
   "name": "python",
   "nbconvert_exporter": "python",
   "pygments_lexer": "ipython3",
   "version": "3.10.6"
  },
  "orig_nbformat": 4,
  "vscode": {
   "interpreter": {
    "hash": "916dbcbb3f70747c44a77c7bcd40155683ae19c65e1c03b4aa3499c5328201f1"
   }
  }
 },
 "nbformat": 4,
 "nbformat_minor": 2
}
